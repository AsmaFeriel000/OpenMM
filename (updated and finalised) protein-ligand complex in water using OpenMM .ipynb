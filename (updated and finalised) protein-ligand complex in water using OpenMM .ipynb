{
 "cells": [
  {
   "cell_type": "code",
   "execution_count": 1,
   "id": "c61ef789",
   "metadata": {},
   "outputs": [
    {
     "name": "stderr",
     "output_type": "stream",
     "text": [
      "Warning: importing 'simtk.openmm' is deprecated.  Import 'openmm' instead.\n"
     ]
    }
   ],
   "source": [
    "from rdkit import Chem\n",
    "from rdkit.Chem import AllChem\n",
    "from rdkit.Chem import Draw\n",
    "from rdkit.Chem.Draw import IPythonConsole\n",
    "from rdkit.Chem.Draw import MolDrawing, DrawingOptions\n",
    "from rdkit.Chem import MolStandardize\n",
    "\n",
    "# syntax edit 1 - no longer openforcefield.topology  \n",
    "from openff.toolkit import ForceField, Molecule, Topology\n",
    "from openff.toolkit.topology import Molecule\n",
    "# syntax edit 2\n",
    "from openff.toolkit.typing.engines.smirnoff import ForceField as OFFForceField\n",
    "from openmmforcefields.generators import SystemGenerator\n",
    "from simtk import openmm, unit\n",
    "from simtk.openmm import app\n",
    "from simtk.openmm.app import PDBFile\n",
    "# syntax edit 3 \n",
    "from openmm.app.modeller import Modeller \n",
    "from simtk.openmm.app import NoCutoff, HBonds\n",
    "\n"
   ]
  },
  {
   "cell_type": "code",
   "execution_count": 2,
   "id": "aacee269",
   "metadata": {},
   "outputs": [],
   "source": [
    "from pdbfixer import PDBFixer\n",
    "import pdb4amber\n",
    "import parmed\n",
    "import MDAnalysis"
   ]
  },
  {
   "cell_type": "code",
   "execution_count": 3,
   "id": "3b00747c",
   "metadata": {},
   "outputs": [],
   "source": [
    "\n",
    "\n",
    "#                                -----   LIGAND PREP  -----\n",
    "\n"
   ]
  },
  {
   "cell_type": "code",
   "execution_count": 4,
   "id": "1c3aa26e",
   "metadata": {},
   "outputs": [
    {
     "name": "stdout",
     "output_type": "stream",
     "text": [
      "1 molecule converted\r\n"
     ]
    }
   ],
   "source": [
    "# syntax edit 4 - -h replaced by -p 7 (to take into account the protonatuon states when H is added)\n",
    "\n",
    "#adding hydrogens to ligand (ligand.pdb is delinker output)\n",
    "!obabel ligand.pdb -ipdb -opdb -O ligand_h.pdb -p 7"
   ]
  },
  {
   "cell_type": "code",
   "execution_count": 5,
   "id": "04606822",
   "metadata": {},
   "outputs": [
    {
     "name": "stdout",
     "output_type": "stream",
     "text": [
      "1 molecule converted\r\n"
     ]
    }
   ],
   "source": [
    "#convert to sdf\n",
    "!obabel ligand_h.pdb -ipdb -osdf -O ligand_h.sdf\n"
   ]
  },
  {
   "cell_type": "code",
   "execution_count": 6,
   "id": "4616750a",
   "metadata": {},
   "outputs": [
    {
     "name": "stderr",
     "output_type": "stream",
     "text": [
      "/Users/fififoufa/mambaforge/envs/openff/lib/python3.9/site-packages/openmm/app/internal/pdbstructure.py:537: UserWarning: WARNING: duplicate atom (ATOM     35  H   UNK     0      15.798  -5.475  19.565  1.00  0.00           H  , ATOM     34  H   UNK     0      16.517  -6.551  20.738  1.00  0.00           H  )\n",
      "  warnings.warn(\"WARNING: duplicate atom (%s, %s)\" % (atom, old_atom._pdb_string(old_atom.serial_number, atom.alternate_location_indicator)))\n",
      "/Users/fififoufa/mambaforge/envs/openff/lib/python3.9/site-packages/openmm/app/internal/pdbstructure.py:537: UserWarning: WARNING: duplicate atom (ATOM     36  H   UNK     0      14.971  -6.944  20.025  1.00  0.00           H  , ATOM     35  H   UNK     0      15.798  -5.475  19.565  1.00  0.00           H  )\n",
      "  warnings.warn(\"WARNING: duplicate atom (%s, %s)\" % (atom, old_atom._pdb_string(old_atom.serial_number, atom.alternate_location_indicator)))\n",
      "/Users/fififoufa/mambaforge/envs/openff/lib/python3.9/site-packages/openmm/app/internal/pdbstructure.py:537: UserWarning: WARNING: duplicate atom (ATOM     37  H   UNK     0      15.519  -4.607  21.840  1.00  0.00           H  , ATOM     36  H   UNK     0      14.971  -6.944  20.025  1.00  0.00           H  )\n",
      "  warnings.warn(\"WARNING: duplicate atom (%s, %s)\" % (atom, old_atom._pdb_string(old_atom.serial_number, atom.alternate_location_indicator)))\n",
      "/Users/fififoufa/mambaforge/envs/openff/lib/python3.9/site-packages/openmm/app/internal/pdbstructure.py:537: UserWarning: WARNING: duplicate atom (ATOM     38  H   UNK     0      14.681  -6.087  22.287  1.00  0.00           H  , ATOM     37  H   UNK     0      15.519  -4.607  21.840  1.00  0.00           H  )\n",
      "  warnings.warn(\"WARNING: duplicate atom (%s, %s)\" % (atom, old_atom._pdb_string(old_atom.serial_number, atom.alternate_location_indicator)))\n",
      "/Users/fififoufa/mambaforge/envs/openff/lib/python3.9/site-packages/openmm/app/internal/pdbstructure.py:537: UserWarning: WARNING: duplicate atom (ATOM     39  H   UNK     0      12.902  -5.605  20.740  1.00  0.00           H  , ATOM     38  H   UNK     0      14.681  -6.087  22.287  1.00  0.00           H  )\n",
      "  warnings.warn(\"WARNING: duplicate atom (%s, %s)\" % (atom, old_atom._pdb_string(old_atom.serial_number, atom.alternate_location_indicator)))\n",
      "/Users/fififoufa/mambaforge/envs/openff/lib/python3.9/site-packages/openmm/app/internal/pdbstructure.py:537: UserWarning: WARNING: duplicate atom (ATOM     40  H   UNK     0      13.782  -4.166  20.177  1.00  0.00           H  , ATOM     39  H   UNK     0      12.902  -5.605  20.740  1.00  0.00           H  )\n",
      "  warnings.warn(\"WARNING: duplicate atom (%s, %s)\" % (atom, old_atom._pdb_string(old_atom.serial_number, atom.alternate_location_indicator)))\n",
      "/Users/fififoufa/mambaforge/envs/openff/lib/python3.9/site-packages/openmm/app/internal/pdbstructure.py:537: UserWarning: WARNING: duplicate atom (ATOM     41  H   UNK     0      11.919  -3.589  21.642  1.00  0.00           H  , ATOM     40  H   UNK     0      13.782  -4.166  20.177  1.00  0.00           H  )\n",
      "  warnings.warn(\"WARNING: duplicate atom (%s, %s)\" % (atom, old_atom._pdb_string(old_atom.serial_number, atom.alternate_location_indicator)))\n",
      "/Users/fififoufa/mambaforge/envs/openff/lib/python3.9/site-packages/openmm/app/internal/pdbstructure.py:537: UserWarning: WARNING: duplicate atom (ATOM     42  H   UNK     0      14.311  -2.550  21.672  1.00  0.00           H  , ATOM     41  H   UNK     0      11.919  -3.589  21.642  1.00  0.00           H  )\n",
      "  warnings.warn(\"WARNING: duplicate atom (%s, %s)\" % (atom, old_atom._pdb_string(old_atom.serial_number, atom.alternate_location_indicator)))\n",
      "/Users/fififoufa/mambaforge/envs/openff/lib/python3.9/site-packages/openmm/app/internal/pdbstructure.py:537: UserWarning: WARNING: duplicate atom (ATOM     43  H   UNK     0      14.082  -2.897  23.312  1.00  0.00           H  , ATOM     42  H   UNK     0      14.311  -2.550  21.672  1.00  0.00           H  )\n",
      "  warnings.warn(\"WARNING: duplicate atom (%s, %s)\" % (atom, old_atom._pdb_string(old_atom.serial_number, atom.alternate_location_indicator)))\n",
      "/Users/fififoufa/mambaforge/envs/openff/lib/python3.9/site-packages/openmm/app/internal/pdbstructure.py:537: UserWarning: WARNING: duplicate atom (ATOM     44  H   UNK     0      12.190  -1.404  21.704  1.00  0.00           H  , ATOM     43  H   UNK     0      14.082  -2.897  23.312  1.00  0.00           H  )\n",
      "  warnings.warn(\"WARNING: duplicate atom (%s, %s)\" % (atom, old_atom._pdb_string(old_atom.serial_number, atom.alternate_location_indicator)))\n",
      "/Users/fififoufa/mambaforge/envs/openff/lib/python3.9/site-packages/openmm/app/internal/pdbstructure.py:537: UserWarning: WARNING: duplicate atom (ATOM     45  H   UNK     0      14.276  -0.144  21.834  1.00  0.00           H  , ATOM     44  H   UNK     0      12.190  -1.404  21.704  1.00  0.00           H  )\n",
      "  warnings.warn(\"WARNING: duplicate atom (%s, %s)\" % (atom, old_atom._pdb_string(old_atom.serial_number, atom.alternate_location_indicator)))\n",
      "/Users/fififoufa/mambaforge/envs/openff/lib/python3.9/site-packages/openmm/app/internal/pdbstructure.py:537: UserWarning: WARNING: duplicate atom (ATOM     46  H   UNK     0      14.361  -0.450  23.570  1.00  0.00           H  , ATOM     45  H   UNK     0      14.276  -0.144  21.834  1.00  0.00           H  )\n",
      "  warnings.warn(\"WARNING: duplicate atom (%s, %s)\" % (atom, old_atom._pdb_string(old_atom.serial_number, atom.alternate_location_indicator)))\n",
      "/Users/fififoufa/mambaforge/envs/openff/lib/python3.9/site-packages/openmm/app/internal/pdbstructure.py:537: UserWarning: WARNING: duplicate atom (ATOM     47  H   UNK     0      14.421   2.265  22.242  1.00  0.00           H  , ATOM     46  H   UNK     0      14.361  -0.450  23.570  1.00  0.00           H  )\n",
      "  warnings.warn(\"WARNING: duplicate atom (%s, %s)\" % (atom, old_atom._pdb_string(old_atom.serial_number, atom.alternate_location_indicator)))\n",
      "/Users/fififoufa/mambaforge/envs/openff/lib/python3.9/site-packages/openmm/app/internal/pdbstructure.py:537: UserWarning: WARNING: duplicate atom (ATOM     48  H   UNK     0      13.190   4.310  22.649  1.00  0.00           H  , ATOM     47  H   UNK     0      14.421   2.265  22.242  1.00  0.00           H  )\n",
      "  warnings.warn(\"WARNING: duplicate atom (%s, %s)\" % (atom, old_atom._pdb_string(old_atom.serial_number, atom.alternate_location_indicator)))\n",
      "/Users/fififoufa/mambaforge/envs/openff/lib/python3.9/site-packages/openmm/app/internal/pdbstructure.py:537: UserWarning: WARNING: duplicate atom (ATOM     49  H   UNK     0      12.376   6.249  23.928  1.00  0.00           H  , ATOM     48  H   UNK     0      13.190   4.310  22.649  1.00  0.00           H  )\n",
      "  warnings.warn(\"WARNING: duplicate atom (%s, %s)\" % (atom, old_atom._pdb_string(old_atom.serial_number, atom.alternate_location_indicator)))\n",
      "/Users/fififoufa/mambaforge/envs/openff/lib/python3.9/site-packages/openmm/app/internal/pdbstructure.py:537: UserWarning: WARNING: duplicate atom (ATOM     50  H   UNK     0      10.976   7.067  23.547  1.00  0.00           H  , ATOM     49  H   UNK     0      12.376   6.249  23.928  1.00  0.00           H  )\n",
      "  warnings.warn(\"WARNING: duplicate atom (%s, %s)\" % (atom, old_atom._pdb_string(old_atom.serial_number, atom.alternate_location_indicator)))\n",
      "/Users/fififoufa/mambaforge/envs/openff/lib/python3.9/site-packages/openmm/app/internal/pdbstructure.py:537: UserWarning: WARNING: duplicate atom (ATOM     51  H   UNK     0      10.019   2.084  24.283  1.00  0.00           H  , ATOM     50  H   UNK     0      10.976   7.067  23.547  1.00  0.00           H  )\n",
      "  warnings.warn(\"WARNING: duplicate atom (%s, %s)\" % (atom, old_atom._pdb_string(old_atom.serial_number, atom.alternate_location_indicator)))\n",
      "/Users/fififoufa/mambaforge/envs/openff/lib/python3.9/site-packages/openmm/app/internal/pdbstructure.py:537: UserWarning: WARNING: duplicate atom (ATOM     52  H   UNK     0       9.402   0.510  24.825  1.00  0.00           H  , ATOM     51  H   UNK     0      10.019   2.084  24.283  1.00  0.00           H  )\n",
      "  warnings.warn(\"WARNING: duplicate atom (%s, %s)\" % (atom, old_atom._pdb_string(old_atom.serial_number, atom.alternate_location_indicator)))\n",
      "/Users/fififoufa/mambaforge/envs/openff/lib/python3.9/site-packages/openmm/app/internal/pdbstructure.py:537: UserWarning: WARNING: duplicate atom (ATOM     53  H   UNK     0      10.058  -0.819  25.750  1.00  0.00           H  , ATOM     52  H   UNK     0       9.402   0.510  24.825  1.00  0.00           H  )\n",
      "  warnings.warn(\"WARNING: duplicate atom (%s, %s)\" % (atom, old_atom._pdb_string(old_atom.serial_number, atom.alternate_location_indicator)))\n",
      "/Users/fififoufa/mambaforge/envs/openff/lib/python3.9/site-packages/openmm/app/internal/pdbstructure.py:537: UserWarning: WARNING: duplicate atom (ATOM     54  H   UNK     0       9.183  -1.132  24.270  1.00  0.00           H  , ATOM     53  H   UNK     0      10.058  -0.819  25.750  1.00  0.00           H  )\n",
      "  warnings.warn(\"WARNING: duplicate atom (%s, %s)\" % (atom, old_atom._pdb_string(old_atom.serial_number, atom.alternate_location_indicator)))\n",
      "/Users/fififoufa/mambaforge/envs/openff/lib/python3.9/site-packages/openmm/app/internal/pdbstructure.py:537: UserWarning: WARNING: duplicate atom (ATOM     55  H   UNK     0      12.480  -1.781  24.676  1.00  0.00           H  , ATOM     54  H   UNK     0       9.183  -1.132  24.270  1.00  0.00           H  )\n",
      "  warnings.warn(\"WARNING: duplicate atom (%s, %s)\" % (atom, old_atom._pdb_string(old_atom.serial_number, atom.alternate_location_indicator)))\n",
      "/Users/fififoufa/mambaforge/envs/openff/lib/python3.9/site-packages/openmm/app/internal/pdbstructure.py:537: UserWarning: WARNING: duplicate atom (ATOM     56  H   UNK     0      11.195  -2.409  23.647  1.00  0.00           H  , ATOM     55  H   UNK     0      12.480  -1.781  24.676  1.00  0.00           H  )\n",
      "  warnings.warn(\"WARNING: duplicate atom (%s, %s)\" % (atom, old_atom._pdb_string(old_atom.serial_number, atom.alternate_location_indicator)))\n",
      "/Users/fififoufa/mambaforge/envs/openff/lib/python3.9/site-packages/openmm/app/internal/pdbstructure.py:537: UserWarning: WARNING: duplicate atom (ATOM     57  H   UNK     0      10.918  -5.943  22.648  1.00  0.00           H  , ATOM     56  H   UNK     0      11.195  -2.409  23.647  1.00  0.00           H  )\n",
      "  warnings.warn(\"WARNING: duplicate atom (%s, %s)\" % (atom, old_atom._pdb_string(old_atom.serial_number, atom.alternate_location_indicator)))\n",
      "/Users/fififoufa/mambaforge/envs/openff/lib/python3.9/site-packages/openmm/app/internal/pdbstructure.py:537: UserWarning: WARNING: duplicate atom (ATOM     58  H   UNK     0      10.693  -7.446  26.101  1.00  0.00           H  , ATOM     57  H   UNK     0      10.918  -5.943  22.648  1.00  0.00           H  )\n",
      "  warnings.warn(\"WARNING: duplicate atom (%s, %s)\" % (atom, old_atom._pdb_string(old_atom.serial_number, atom.alternate_location_indicator)))\n",
      "/Users/fififoufa/mambaforge/envs/openff/lib/python3.9/site-packages/openmm/app/internal/pdbstructure.py:537: UserWarning: WARNING: duplicate atom (ATOM     59  H   UNK     0       9.182  -7.009  23.561  1.00  0.00           H  , ATOM     58  H   UNK     0      10.693  -7.446  26.101  1.00  0.00           H  )\n",
      "  warnings.warn(\"WARNING: duplicate atom (%s, %s)\" % (atom, old_atom._pdb_string(old_atom.serial_number, atom.alternate_location_indicator)))\n",
      "/Users/fififoufa/mambaforge/envs/openff/lib/python3.9/site-packages/openmm/app/internal/pdbstructure.py:537: UserWarning: WARNING: duplicate atom (ATOM     60  H   UNK     0       8.622  -6.801  25.172  1.00  0.00           H  , ATOM     59  H   UNK     0       9.182  -7.009  23.561  1.00  0.00           H  )\n",
      "  warnings.warn(\"WARNING: duplicate atom (%s, %s)\" % (atom, old_atom._pdb_string(old_atom.serial_number, atom.alternate_location_indicator)))\n",
      "/Users/fififoufa/mambaforge/envs/openff/lib/python3.9/site-packages/openmm/app/internal/pdbstructure.py:537: UserWarning: WARNING: duplicate atom (ATOM     61  H   UNK     0       8.188  -9.067  23.613  1.00  0.00           H  , ATOM     60  H   UNK     0       8.622  -6.801  25.172  1.00  0.00           H  )\n",
      "  warnings.warn(\"WARNING: duplicate atom (%s, %s)\" % (atom, old_atom._pdb_string(old_atom.serial_number, atom.alternate_location_indicator)))\n",
      "/Users/fififoufa/mambaforge/envs/openff/lib/python3.9/site-packages/openmm/app/internal/pdbstructure.py:537: UserWarning: WARNING: duplicate atom (ATOM     62  H   UNK     0       8.025  -9.040  25.337  1.00  0.00           H  , ATOM     61  H   UNK     0       8.188  -9.067  23.613  1.00  0.00           H  )\n",
      "  warnings.warn(\"WARNING: duplicate atom (%s, %s)\" % (atom, old_atom._pdb_string(old_atom.serial_number, atom.alternate_location_indicator)))\n",
      "/Users/fififoufa/mambaforge/envs/openff/lib/python3.9/site-packages/openmm/app/internal/pdbstructure.py:537: UserWarning: WARNING: duplicate atom (ATOM     63  H   UNK     0       9.934 -10.500  23.848  1.00  0.00           H  , ATOM     62  H   UNK     0       8.025  -9.040  25.337  1.00  0.00           H  )\n",
      "  warnings.warn(\"WARNING: duplicate atom (%s, %s)\" % (atom, old_atom._pdb_string(old_atom.serial_number, atom.alternate_location_indicator)))\n",
      "/Users/fififoufa/mambaforge/envs/openff/lib/python3.9/site-packages/openmm/app/internal/pdbstructure.py:537: UserWarning: WARNING: duplicate atom (ATOM     64  H   UNK     0       9.913 -10.332  25.568  1.00  0.00           H  , ATOM     63  H   UNK     0       9.934 -10.500  23.848  1.00  0.00           H  )\n",
      "  warnings.warn(\"WARNING: duplicate atom (%s, %s)\" % (atom, old_atom._pdb_string(old_atom.serial_number, atom.alternate_location_indicator)))\n",
      "/Users/fififoufa/mambaforge/envs/openff/lib/python3.9/site-packages/openmm/app/internal/pdbstructure.py:537: UserWarning: WARNING: duplicate atom (ATOM     65  H   UNK     0      11.982  -9.227  25.164  1.00  0.00           H  , ATOM     64  H   UNK     0       9.913 -10.332  25.568  1.00  0.00           H  )\n",
      "  warnings.warn(\"WARNING: duplicate atom (%s, %s)\" % (atom, old_atom._pdb_string(old_atom.serial_number, atom.alternate_location_indicator)))\n",
      "/Users/fififoufa/mambaforge/envs/openff/lib/python3.9/site-packages/openmm/app/internal/pdbstructure.py:537: UserWarning: WARNING: duplicate atom (ATOM     66  H   UNK     0      13.709  -9.337  23.701  1.00  0.00           H  , ATOM     65  H   UNK     0      11.982  -9.227  25.164  1.00  0.00           H  )\n",
      "  warnings.warn(\"WARNING: duplicate atom (%s, %s)\" % (atom, old_atom._pdb_string(old_atom.serial_number, atom.alternate_location_indicator)))\n",
      "/Users/fififoufa/mambaforge/envs/openff/lib/python3.9/site-packages/openmm/app/internal/pdbstructure.py:537: UserWarning: WARNING: duplicate atom (ATOM     67  H   UNK     0      13.485  -9.124  22.024  1.00  0.00           H  , ATOM     66  H   UNK     0      13.709  -9.337  23.701  1.00  0.00           H  )\n",
      "  warnings.warn(\"WARNING: duplicate atom (%s, %s)\" % (atom, old_atom._pdb_string(old_atom.serial_number, atom.alternate_location_indicator)))\n",
      "/Users/fififoufa/mambaforge/envs/openff/lib/python3.9/site-packages/openmm/app/internal/pdbstructure.py:537: UserWarning: WARNING: duplicate atom (ATOM     68  H   UNK     0      12.713  -6.231  26.490  1.00  0.00           H  , ATOM     67  H   UNK     0      13.485  -9.124  22.024  1.00  0.00           H  )\n",
      "  warnings.warn(\"WARNING: duplicate atom (%s, %s)\" % (atom, old_atom._pdb_string(old_atom.serial_number, atom.alternate_location_indicator)))\n"
     ]
    }
   ],
   "source": [
    "#create pdb object\n",
    "pdbfile = PDBFile('./ligand_h.pdb')\n",
    "#create molecule object\n",
    "mol = Molecule.from_file('./ligand_h.sdf')\n",
    "\n",
    "\n",
    "# HELPFUL TIP 1 : can view topology at this stage to check by executing: \"pdbfile.topology\""
   ]
  },
  {
   "cell_type": "code",
   "execution_count": 7,
   "id": "1d92e6fa",
   "metadata": {},
   "outputs": [
    {
     "name": "stderr",
     "output_type": "stream",
     "text": [
      "/Users/fififoufa/mambaforge/envs/openff/lib/python3.9/site-packages/openff/interchange/components/interchange.py:339: UserWarning: Automatically up-converting BondHandler from version 0.3 to 0.4. Consider manually upgrading this BondHandler (or <Bonds> section in an OFFXML file) to 0.4 or newer. For more details, see https://openforcefield.github.io/standards/standards/smirnoff/#bonds.\n",
      "  warnings.warn(\n"
     ]
    }
   ],
   "source": [
    "# Create the Open Force Field Topology from an OpenMM Topology object.\n",
    "##\n",
    "omm_topology = pdbfile.topology\n",
    "\n",
    "# syntax edit 5 - ligand obj added , allow undefined added, .to_topology()applied to ligand\n",
    "\n",
    "ligand = Molecule.from_file('./ligand_h.sdf', allow_undefined_stereo=True)\n",
    "off_topology = ligand.to_topology()\n",
    "openmm_topology = off_topology.to_openmm()\n",
    "\n",
    "\n",
    "# Load the OpenFF \"Parsley\" force field.\n",
    "forcefield = OFFForceField('openff-1.0.0.offxml') \n",
    "\n",
    "# Parametrize the topology and create an OpenMM System.\n",
    "system = forcefield.create_openmm_system(off_topology)"
   ]
  },
  {
   "cell_type": "code",
   "execution_count": 8,
   "id": "2cac73e2",
   "metadata": {},
   "outputs": [
    {
     "name": "stdout",
     "output_type": "stream",
     "text": [
      "--2023-03-08 15:56:20--  https://raw.githubusercontent.com/bieniekmateusz/Protein-ligand-openmm-workflow/main/mpro.pdb\n",
      "Resolving raw.githubusercontent.com (raw.githubusercontent.com)... 185.199.111.133, 185.199.108.133, 185.199.110.133, ...\n",
      "Connecting to raw.githubusercontent.com (raw.githubusercontent.com)|185.199.111.133|:443... connected.\n",
      "HTTP request sent, awaiting response... 200 OK\n",
      "Length: 244671 (239K) [text/plain]\n",
      "Saving to: ‘mpro.pdb.5’\n",
      "\n",
      "mpro.pdb.5          100%[===================>] 238.94K  --.-KB/s    in 0.04s   \n",
      "\n",
      "2023-03-08 15:56:20 (5.71 MB/s) - ‘mpro.pdb.5’ saved [244671/244671]\n",
      "\n"
     ]
    }
   ],
   "source": [
    "# # HELPFUL TIP 2 : downloading the protein used in the tutorial like so ensures its accessibility from the github without issues \n",
    "\n",
    "!wget https://raw.githubusercontent.com/bieniekmateusz/Protein-ligand-openmm-workflow/main/mpro.pdb"
   ]
  },
  {
   "cell_type": "code",
   "execution_count": 9,
   "id": "15f49402",
   "metadata": {},
   "outputs": [
    {
     "name": "stderr",
     "output_type": "stream",
     "text": [
      "/Users/fififoufa/mambaforge/envs/openff/lib/python3.9/site-packages/parmed/structure.py:1701: UnitStrippedWarning: The unit of the quantity is stripped when downcasting to ndarray.\n",
      "  coords = np.array(value, dtype=np.float64, copy=False, subok=True)\n"
     ]
    }
   ],
   "source": [
    "omm_topology = pdbfile.getTopology()\n",
    "positions = pdbfile.getPositions()\n",
    "\n",
    "# Convert OpenMM System into a ParmEd Structure.\n",
    "ligand_structure = parmed.openmm.load_topology(off_topology.to_openmm(),\n",
    "                                                   system,\n",
    "                                                   xyz=mol.conformers[0])\n",
    "\n"
   ]
  },
  {
   "cell_type": "code",
   "execution_count": 10,
   "id": "34600e60",
   "metadata": {},
   "outputs": [],
   "source": [
    "\n",
    "\n",
    "#                                -----   PROTEIN PREP  -----\n",
    "\n",
    "\n"
   ]
  },
  {
   "cell_type": "code",
   "execution_count": 11,
   "id": "1c89e4e5",
   "metadata": {},
   "outputs": [],
   "source": [
    "#fix PDB\n",
    "fixer = PDBFixer('./mpro.pdb')\n",
    "fixer.findMissingResidues()\n",
    "fixer.findNonstandardResidues()\n",
    "fixer.replaceNonstandardResidues()\n",
    "fixer.removeHeterogens(True)\n",
    "fixer.findMissingAtoms()\n",
    "fixer.addMissingAtoms()\n",
    "PDBFile.writeFile(fixer.topology, fixer.positions, open('mpro_nosolvent.pdb', 'w'))\n",
    "\n",
    "\n",
    "\n"
   ]
  },
  {
   "cell_type": "code",
   "execution_count": 12,
   "id": "89c767fe",
   "metadata": {},
   "outputs": [
    {
     "name": "stdout",
     "output_type": "stream",
     "text": [
      "\r\n",
      "==================================================\r\n",
      "Summary of pdb4amber for: mpro_nosolvent.pdb\r\n",
      "===================================================\r\n",
      "REDUCE returned non-zero exit status: See reduce_info.log for more details\r\n",
      "\r\n",
      "----------Chains\r\n",
      "The following (original) chains have been found:\r\n",
      "A\r\n",
      "\r\n",
      "---------- Alternate Locations (Original Residues!))\r\n",
      "\r\n",
      "The following residues had alternate locations:\r\n",
      "None\r\n",
      "-----------Non-standard-resnames\r\n",
      "\r\n",
      "\r\n",
      "---------- Missing heavy atom(s)\r\n",
      "\r\n",
      "None\r\n"
     ]
    }
   ],
   "source": [
    "#more PDB fixing + protonation\n",
    "pdb4amber.run(arg_pdbout='mproh.pdb', arg_pdbin='mpro_nosolvent.pdb', arg_reduce=True, arg_logfile='pdb4amber.log')\n",
    "!tail -n 20 pdb4amber.log"
   ]
  },
  {
   "cell_type": "code",
   "execution_count": 13,
   "id": "6a091a8d",
   "metadata": {},
   "outputs": [],
   "source": [
    "#make the system generator, load forcefields\n",
    "forcefield_kwargs = { 'constraints' : app.HBonds, 'rigidWater' : True, 'removeCMMotion' : False, 'hydrogenMass' : 4*unit.amu }\n",
    "\n",
    "#system generator used to create system objects\n",
    "system_gen = SystemGenerator(forcefields=['amber99sbildn.xml', 'tip3pfb.xml'], \n",
    "                             small_molecule_forcefield=\"openff-1.3.0.offxml\", \n",
    "                             forcefield_kwargs=forcefield_kwargs,\n",
    "                            molecules=[mol,])"
   ]
  },
  {
   "cell_type": "code",
   "execution_count": 14,
   "id": "96e64152",
   "metadata": {},
   "outputs": [],
   "source": [
    "#make the modeller\n",
    "pdbfile = PDBFile('mproh.pdb')\n",
    "top = pdbfile.getTopology()\n",
    "pos = pdbfile.getPositions()\n",
    "modeller = app.Modeller(top, pos)"
   ]
  },
  {
   "cell_type": "code",
   "execution_count": 15,
   "id": "4509a015",
   "metadata": {},
   "outputs": [],
   "source": [
    "#now add water \n",
    "modeller.addSolvent(system_gen.forcefield, model=\"tip3p\", padding=1, ionicStrength=0*unit.molar, neutralize=False)\n",
    "top = modeller.topology\n",
    "pos = modeller.positions\n",
    "\n",
    "#write a pdb file of solvated protein\n",
    "with open(\"mpro_h_solvent.pdb\", 'w') as outfile:\n",
    "    app.PDBFile.writeFile(modeller.topology, modeller.positions, outfile)"
   ]
  },
  {
   "cell_type": "code",
   "execution_count": 16,
   "id": "a1af3866",
   "metadata": {},
   "outputs": [],
   "source": [
    "#parameterize the protein and create a system \n",
    "system = system_gen.create_system(topology=modeller.topology)"
   ]
  },
  {
   "cell_type": "code",
   "execution_count": 17,
   "id": "4461156a",
   "metadata": {},
   "outputs": [],
   "source": [
    "#convert the protein system into a ParmEd structure\n",
    "protein_structure = parmed.openmm.load_topology(top,\n",
    "                                           system,\n",
    "                                           xyz=pos)"
   ]
  },
  {
   "cell_type": "code",
   "execution_count": 18,
   "id": "43a1ac8f",
   "metadata": {},
   "outputs": [],
   "source": [
    "#write structure to pdb file\n",
    "PDBFile.writeFile(protein_structure.topology, \n",
    "                  protein_structure.positions, \n",
    "                  open('protein_structure.pdb', 'w'))\n",
    "pdbfile = PDBFile('protein_structure.pdb')"
   ]
  },
  {
   "cell_type": "code",
   "execution_count": 19,
   "id": "e747fb67",
   "metadata": {},
   "outputs": [],
   "source": [
    "\n",
    "\n",
    "#                                -----   Combining the protein and ligand  -----\n",
    "\n",
    "\n",
    "\n"
   ]
  },
  {
   "cell_type": "code",
   "execution_count": 20,
   "id": "2b062862",
   "metadata": {},
   "outputs": [],
   "source": [
    "#adding the structures from protein.ipynb and ligand.ipynb\n",
    "complex_structure = protein_structure + ligand_structure\n",
    "#writing new structure to a .pdb file\n",
    "complex_structure.write_pdb('./complex_system.pdb')"
   ]
  },
  {
   "cell_type": "code",
   "execution_count": 21,
   "id": "5ddebd81",
   "metadata": {},
   "outputs": [],
   "source": [
    "\n",
    "\n",
    "#                                -----   Simulating the protein-ligand comple  -----\n",
    "\n",
    "\n",
    "\n",
    "\n"
   ]
  },
  {
   "cell_type": "code",
   "execution_count": 22,
   "id": "90402db7",
   "metadata": {},
   "outputs": [
    {
     "name": "stderr",
     "output_type": "stream",
     "text": [
      "/Users/fififoufa/mambaforge/envs/openff/lib/python3.9/site-packages/openff/interchange/components/interchange.py:339: UserWarning: Automatically up-converting BondHandler from version 0.3 to 0.4. Consider manually upgrading this BondHandler (or <Bonds> section in an OFFXML file) to 0.4 or newer. For more details, see https://openforcefield.github.io/standards/standards/smirnoff/#bonds.\n",
      "  warnings.warn(\n"
     ]
    }
   ],
   "source": [
    "#convert the structure to an openmm system\n",
    "complex_system = system_gen.create_system(topology=complex_structure.topology)"
   ]
  },
  {
   "cell_type": "code",
   "execution_count": 23,
   "id": "dae10cc4",
   "metadata": {},
   "outputs": [],
   "source": [
    "#propagate the System with Langevin dynamics.\n",
    "time_step = 1*unit.femtoseconds  # simulation timestep\n",
    "temperature = 300*unit.kelvin  # simulation temperature\n",
    "friction = 1/unit.picosecond  # collision rate\n",
    "integrator_min = openmm.LangevinIntegrator(temperature, friction, time_step)\n",
    "\n",
    "#set up an openmm simulation\n",
    "simulation = openmm.app.Simulation(complex_structure.topology, complex_system, integrator_min)\n",
    "\n",
    "\n",
    "#set the initial positions\n",
    "positions = complex_structure.positions\n",
    "\n",
    "simulation.context.setPositions(positions)\n"
   ]
  },
  {
   "cell_type": "code",
   "execution_count": 24,
   "id": "1b9c02d1",
   "metadata": {},
   "outputs": [],
   "source": [
    "simulation.minimizeEnergy()\n",
    "simulation.saveState('./minimized.state')"
   ]
  },
  {
   "cell_type": "code",
   "execution_count": 25,
   "id": "fb46128b",
   "metadata": {},
   "outputs": [],
   "source": [
    "# HELPFUL TIP 3 : PRINT OUT MINIMISED COORDINATES AS A PDB - COMPARE WITH ORIGINAL PDB"
   ]
  },
  {
   "cell_type": "code",
   "execution_count": 26,
   "id": "e1a10fdf",
   "metadata": {},
   "outputs": [],
   "source": [
    "#get state of minimised simulation\n",
    "state = simulation.context.getState(getPositions=True)\n",
    "#get positions of minimised simulation\n",
    "positions = state.getPositions()\n",
    "#write minimised structure to .pdb\n",
    "PDBFile.writeFile(complex_structure.topology, positions, open(\"minimised_complex.pdb\", \"w\"))\n",
    "pdbfile_min = PDBFile('./minimised_complex.pdb')"
   ]
  },
  {
   "cell_type": "code",
   "execution_count": 28,
   "id": "b5aa93aa",
   "metadata": {},
   "outputs": [],
   "source": [
    "# syntax edit 6 - use pdfile_min for .topology istead of any other object\n",
    "\n",
    "minimised_structure = parmed.openmm.load_topology(pdbfile_min.topology, complex_system,xyz=positions)"
   ]
  },
  {
   "cell_type": "code",
   "execution_count": 29,
   "id": "16405fa9",
   "metadata": {},
   "outputs": [],
   "source": [
    "#propagate the System with Langevin dynamics.\n",
    "time_step = 1*unit.femtoseconds  # simulation timestep\n",
    "temperature = 300*unit.kelvin  # simulation temperature\n",
    "friction = 1/unit.picosecond  # collision rate\n",
    "integrator_prod = openmm.LangevinIntegrator(temperature, friction, time_step)\n",
    "\n",
    "#length of the simulation.\n",
    "num_steps = 1000  # number of integration steps to run\n",
    "\n",
    "# Logging options.\n",
    "trj_freq = 1  # number of steps per written trajectory frame\n",
    "data_freq = 1  # number of steps per written simulation statistics\n",
    "\n",
    "#set up an OpenMM simulation using minimised structure\n",
    "simulation = openmm.app.Simulation(minimised_structure.topology, complex_system, integrator_prod)\n",
    "\n",
    "#set the initial positions.\n",
    "positions = pdbfile_min.getPositions()\n",
    "simulation.context.setPositions(positions)\n",
    "\n",
    "\n",
    "#randomize the velocities from a Boltzmann distribution at a given temperature.\n",
    "simulation.context.setVelocitiesToTemperature(temperature)\n",
    "\n",
    "#configure the information in the output files.\n",
    "pdb_reporter = openmm.app.PDBReporter('trajectory_prod.pdb', trj_freq)\n",
    "state_data_reporter = openmm.app.StateDataReporter('data_prod.csv', data_freq, step=True,\n",
    "                                                   potentialEnergy=True, temperature=True,\n",
    "                                                   density=True)\n",
    "simulation.reporters.append(pdb_reporter)\n",
    "simulation.reporters.append(state_data_reporter)\n",
    "\n"
   ]
  },
  {
   "cell_type": "code",
   "execution_count": null,
   "id": "8e4ded9f",
   "metadata": {},
   "outputs": [
    {
     "name": "stdout",
     "output_type": "stream",
     "text": [
      "Starting simulation\n"
     ]
    }
   ],
   "source": [
    "import time\n",
    "\n",
    "print(\"Starting simulation\")\n",
    "start = time.process_time()\n",
    "\n",
    "#run the simulation\n",
    "simulation.step(num_steps)\n",
    "\n",
    "end = time.process_time()\n",
    "print(\"Elapsed time %.2f seconds\" % (end-start))\n",
    "print(\"Done!\")"
   ]
  },
  {
   "cell_type": "code",
   "execution_count": null,
   "id": "9c880d9a",
   "metadata": {},
   "outputs": [],
   "source": []
  }
 ],
 "metadata": {
  "kernelspec": {
   "display_name": "openff",
   "language": "python",
   "name": "openff"
  },
  "language_info": {
   "codemirror_mode": {
    "name": "ipython",
    "version": 3
   },
   "file_extension": ".py",
   "mimetype": "text/x-python",
   "name": "python",
   "nbconvert_exporter": "python",
   "pygments_lexer": "ipython3",
   "version": "3.9.16"
  }
 },
 "nbformat": 4,
 "nbformat_minor": 5
}
