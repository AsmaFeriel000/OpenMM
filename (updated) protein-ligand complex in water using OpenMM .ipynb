{
 "cells": [
  {
   "cell_type": "code",
   "execution_count": null,
   "id": "c61ef789",
   "metadata": {},
   "outputs": [],
   "source": [
    "rom rdkit import Chem\n",
    "from rdkit.Chem import AllChem\n",
    "from rdkit.Chem import Draw\n",
    "from rdkit.Chem.Draw import IPythonConsole\n",
    "from rdkit.Chem.Draw import MolDrawing, DrawingOptions\n",
    "from rdkit.Chem import MolStandardize\n",
    "\n",
    "# syntax edit 1 - no longer openforcefield.topology  \n",
    "from openff.toolkit import ForceField, Molecule, Topology\n",
    "from openff.toolkit.topology import Molecule\n",
    "# syntax edit 2\n",
    "from openff.toolkit.typing.engines.smirnoff import ForceField as OFFForceField\n",
    "from openmmforcefields.generators import SystemGenerator\n",
    "from simtk import openmm, unit\n",
    "from simtk.openmm import app\n",
    "from simtk.openmm.app import PDBFile\n",
    "# syntax edit 3 \n",
    "from openmm.app.modeller import Modeller \n",
    "from simtk.openmm.app import NoCutoff, HBonds\n",
    "\n"
   ]
  },
  {
   "cell_type": "code",
   "execution_count": null,
   "id": "aacee269",
   "metadata": {},
   "outputs": [],
   "source": [
    "from pdbfixer import PDBFixer\n",
    "import pdb4amber\n",
    "import parmed\n",
    "import MDAnalysis"
   ]
  },
  {
   "cell_type": "code",
   "execution_count": null,
   "id": "3b00747c",
   "metadata": {},
   "outputs": [],
   "source": [
    "\n",
    "\n",
    "#                                -----   LIGAND PREP  -----\n",
    "\n"
   ]
  },
  {
   "cell_type": "code",
   "execution_count": null,
   "id": "1c3aa26e",
   "metadata": {},
   "outputs": [],
   "source": [
    "# syntax edit 4 - -h replaced by -p 7 (to take into account the protonatuon states when H is added)\n",
    "\n",
    "#adding hydrogens to ligand (ligand.pdb is delinker output)\n",
    "!obabel ligand.pdb -ipdb -opdb -O ligand_h.pdb -p 7"
   ]
  },
  {
   "cell_type": "code",
   "execution_count": null,
   "id": "04606822",
   "metadata": {},
   "outputs": [],
   "source": [
    "#convert to sdf\n",
    "!obabel ligand_h.pdb -ipdb -osdf -O ligand_h.sdf\n"
   ]
  },
  {
   "cell_type": "code",
   "execution_count": null,
   "id": "4616750a",
   "metadata": {},
   "outputs": [],
   "source": [
    "#create pdb object\n",
    "pdbfile = PDBFile('./ligand_h.pdb')\n",
    "#create molecule object\n",
    "mol = Molecule.from_file('./ligand_h.sdf')\n",
    "\n",
    "# HELPFUL TIP 1 : can view topology at this stage to check by executing: \"pdbfile.topology\""
   ]
  },
  {
   "cell_type": "code",
   "execution_count": null,
   "id": "1d92e6fa",
   "metadata": {},
   "outputs": [],
   "source": [
    "# Create the Open Force Field Topology from an OpenMM Topology object.\n",
    "omm_topology = pdbfile.topology\n",
    "off_topology = Topology.from_openmm(omm_topology, unique_molecules=[mol])\n",
    "\n",
    "\n",
    "# Load the OpenFF \"Parsley\" force field.\n",
    "forcefield = OFFForceField('openff-1.0.0.offxml') \n",
    "\n",
    "# Parametrize the topology and create an OpenMM System.\n",
    "system = forcefield.create_openmm_system(off_topology)"
   ]
  },
  {
   "cell_type": "code",
   "execution_count": null,
   "id": "15f49402",
   "metadata": {},
   "outputs": [],
   "source": [
    "omm_topology = pdbfile.getTopology()\n",
    "positions = pdbfile.getPositions()\n",
    "# Convert OpenMM System into a ParmEd Structure.\n",
    "ligand_structure = parmed.openmm.load_topology(omm_topology,\n",
    "                                                system,\n",
    "                                                xyz=positions)"
   ]
  },
  {
   "cell_type": "code",
   "execution_count": null,
   "id": "34600e60",
   "metadata": {},
   "outputs": [],
   "source": [
    "\n",
    "\n",
    "#                                -----   PROTEIN PREP  -----\n",
    "\n",
    "\n"
   ]
  },
  {
   "cell_type": "code",
   "execution_count": null,
   "id": "1c89e4e5",
   "metadata": {},
   "outputs": [],
   "source": [
    "#fix PDB\n",
    "fixer = PDBFixer('./mpro.pdb')\n",
    "fixer.findMissingResidues()\n",
    "fixer.findNonstandardResidues()\n",
    "fixer.replaceNonstandardResidues()\n",
    "fixer.removeHeterogens(True)\n",
    "fixer.findMissingAtoms()\n",
    "fixer.addMissingAtoms()\n",
    "PDBFile.writeFile(fixer.topology, fixer.positions, open('mpro_nosolvent.pdb', 'w'))\n",
    "\n",
    "\n",
    "\n"
   ]
  },
  {
   "cell_type": "code",
   "execution_count": null,
   "id": "89c767fe",
   "metadata": {},
   "outputs": [],
   "source": [
    "#more PDB fixing + protonation\n",
    "pdb4amber.run(arg_pdbout='mproh.pdb', arg_pdbin='mpro_nosolvent.pdb', arg_reduce=True, arg_logfile='pdb4amber.log')\n",
    "!tail -n 20 pdb4amber.log"
   ]
  },
  {
   "cell_type": "code",
   "execution_count": null,
   "id": "6a091a8d",
   "metadata": {},
   "outputs": [],
   "source": [
    "#make the system generator, load forcefields\n",
    "forcefield_kwargs = { 'constraints' : app.HBonds, 'rigidWater' : True, 'removeCMMotion' : False, 'hydrogenMass' : 4*unit.amu }\n",
    "\n",
    "#system generator used to create system objects\n",
    "system_gen = SystemGenerator(forcefields=['amber99sbildn.xml', 'tip3pfb.xml'], \n",
    "                             small_molecule_forcefield=\"openff-1.3.0.offxml\", \n",
    "                             forcefield_kwargs=forcefield_kwargs,\n",
    "                            molecules=[mol,])"
   ]
  },
  {
   "cell_type": "code",
   "execution_count": null,
   "id": "96e64152",
   "metadata": {},
   "outputs": [],
   "source": [
    "#make the modeller\n",
    "pdbfile = PDBFile('mproh.pdb')\n",
    "top = pdbfile.getTopology()\n",
    "pos = pdbfile.getPositions()\n",
    "modeller = app.Modeller(top, pos)"
   ]
  },
  {
   "cell_type": "code",
   "execution_count": null,
   "id": "4509a015",
   "metadata": {},
   "outputs": [],
   "source": [
    "#now add water \n",
    "modeller.addSolvent(system_gen.forcefield, model=\"tip3p\", padding=1, ionicStrength=0*unit.molar, neutralize=False)\n",
    "top = modeller.topology\n",
    "pos = modeller.positions\n",
    "\n",
    "#write a pdb file of solvated protein\n",
    "with open(\"mpro_h_solvent.pdb\", 'w') as outfile:\n",
    "    app.PDBFile.writeFile(modeller.topology, modeller.positions, outfile)"
   ]
  },
  {
   "cell_type": "code",
   "execution_count": null,
   "id": "a1af3866",
   "metadata": {},
   "outputs": [],
   "source": [
    "#parameterize the protein and create a system \n",
    "system = system_gen.create_system(topology=modeller.topology)"
   ]
  },
  {
   "cell_type": "code",
   "execution_count": null,
   "id": "4461156a",
   "metadata": {},
   "outputs": [],
   "source": [
    "#convert the protein system into a ParmEd structure\n",
    "protein_structure = parmed.openmm.load_topology(top,\n",
    "                                           system,\n",
    "                                           xyz=pos)"
   ]
  },
  {
   "cell_type": "code",
   "execution_count": null,
   "id": "43a1ac8f",
   "metadata": {},
   "outputs": [],
   "source": [
    "#write structure to pdb file\n",
    "PDBFile.writeFile(protein_structure.topology, \n",
    "                  protein_structure.positions, \n",
    "                  open('protein_structure.pdb', 'w'))\n",
    "pdbfile = PDBFile('protein_structure.pdb')"
   ]
  },
  {
   "cell_type": "code",
   "execution_count": 2,
   "id": "e747fb67",
   "metadata": {},
   "outputs": [],
   "source": [
    "\n",
    "\n",
    "#                                -----   Combining the protein and ligand  -----\n",
    "\n",
    "\n",
    "\n"
   ]
  },
  {
   "cell_type": "code",
   "execution_count": null,
   "id": "2b062862",
   "metadata": {},
   "outputs": [],
   "source": [
    "#adding the structures from protein.ipynb and ligand.ipynb\n",
    "complex_structure = protein_structure + ligand_structure\n",
    "#writing new structure to a .pdb file\n",
    "complex_structure.write_pdb('./complex_system.pdb')"
   ]
  },
  {
   "cell_type": "code",
   "execution_count": null,
   "id": "5ddebd81",
   "metadata": {},
   "outputs": [],
   "source": [
    "\n",
    "\n",
    "#                                -----   Simulating the protein-ligand comple  -----\n",
    "\n",
    "\n",
    "\n",
    "\n"
   ]
  },
  {
   "cell_type": "code",
   "execution_count": null,
   "id": "90402db7",
   "metadata": {},
   "outputs": [],
   "source": [
    "#convert the structure to an openmm system\n",
    "complex_system = system_gen.create_system(topology=complex_structure.topology)"
   ]
  },
  {
   "cell_type": "code",
   "execution_count": null,
   "id": "dae10cc4",
   "metadata": {},
   "outputs": [],
   "source": [
    "#propagate the System with Langevin dynamics.\n",
    "time_step = 1*unit.femtoseconds  # simulation timestep\n",
    "temperature = 300*unit.kelvin  # simulation temperature\n",
    "friction = 1/unit.picosecond  # collision rate\n",
    "integrator_min = openmm.LangevinIntegrator(temperature, friction, time_step)\n",
    "\n",
    "#set up an openmm simulation\n",
    "simulation = openmm.app.Simulation(complex_structure.topology, complex_system, integrator_min)\n",
    "\n",
    "\n",
    "#set the initial positions\n",
    "positions = complex_structure.positions\n",
    "\n",
    "simulation.context.setPositions(positions)\n"
   ]
  },
  {
   "cell_type": "code",
   "execution_count": null,
   "id": "1b9c02d1",
   "metadata": {},
   "outputs": [],
   "source": [
    "simulation.minimizeEnergy()\n",
    "simulation.saveState('./minimized.state')"
   ]
  },
  {
   "cell_type": "code",
   "execution_count": 3,
   "id": "fb46128b",
   "metadata": {},
   "outputs": [],
   "source": [
    "# HELPFUL TIP 2 : PRINT OUT MINIMISED COORDINATES AS A PDB - COMPARE WITH ORIGINAL PDB"
   ]
  },
  {
   "cell_type": "code",
   "execution_count": null,
   "id": "e1a10fdf",
   "metadata": {},
   "outputs": [],
   "source": [
    "#get state of minimised simulation\n",
    "state = simulation.context.getState(getPositions=True)\n",
    "#get positions of minimised simulation\n",
    "positions = state.getPositions()\n",
    "#write minimised structure to .pdb\n",
    "PDBFile.writeFile(complex_structure.topology, positions, open(\"minimised_complex.pdb\", \"w\"))\n",
    "pdbfile_min = PDBFile('./minimised_complex.pdb')"
   ]
  },
  {
   "cell_type": "code",
   "execution_count": null,
   "id": "b5aa93aa",
   "metadata": {},
   "outputs": [],
   "source": [
    "# syntax edit 5 \n",
    "\n",
    "minimised_structure = parmed.openmm.load_topology(minimised_structure.topology, complex_system,xyz=positions)"
   ]
  },
  {
   "cell_type": "code",
   "execution_count": null,
   "id": "16405fa9",
   "metadata": {},
   "outputs": [],
   "source": [
    "#propagate the System with Langevin dynamics.\n",
    "time_step = 1*unit.femtoseconds  # simulation timestep\n",
    "temperature = 300*unit.kelvin  # simulation temperature\n",
    "friction = 1/unit.picosecond  # collision rate\n",
    "integrator_prod = openmm.LangevinIntegrator(temperature, friction, time_step)\n",
    "\n",
    "#length of the simulation.\n",
    "num_steps = 1000  # number of integration steps to run\n",
    "\n",
    "# Logging options.\n",
    "trj_freq = 1  # number of steps per written trajectory frame\n",
    "data_freq = 1  # number of steps per written simulation statistics\n",
    "\n",
    "#set up an OpenMM simulation using minimised structure\n",
    "simulation = openmm.app.Simulation(minimised_structure.topology, complex_system, integrator_prod)\n",
    "\n",
    "#set the initial positions.\n",
    "positions = pdbfile_min.getPositions()\n",
    "simulation.context.setPositions(positions)\n",
    "\n",
    "\n",
    "#randomize the velocities from a Boltzmann distribution at a given temperature.\n",
    "simulation.context.setVelocitiesToTemperature(temperature)\n",
    "\n",
    "#configure the information in the output files.\n",
    "pdb_reporter = openmm.app.PDBReporter('trajectory_prod.pdb', trj_freq)\n",
    "state_data_reporter = openmm.app.StateDataReporter('data_prod.csv', data_freq, step=True,\n",
    "                                                   potentialEnergy=True, temperature=True,\n",
    "                                                   density=True)\n",
    "simulation.reporters.append(pdb_reporter)\n",
    "simulation.reporters.append(state_data_reporter)\n",
    "\n"
   ]
  },
  {
   "cell_type": "code",
   "execution_count": null,
   "id": "8e4ded9f",
   "metadata": {},
   "outputs": [],
   "source": [
    "import time\n",
    "\n",
    "print(\"Starting simulation\")\n",
    "start = time.process_time()\n",
    "\n",
    "#run the simulation\n",
    "simulation.step(num_steps)\n",
    "\n",
    "end = time.process_time()\n",
    "print(\"Elapsed time %.2f seconds\" % (end-start))\n",
    "print(\"Done!\")"
   ]
  }
 ],
 "metadata": {
  "kernelspec": {
   "display_name": "openff",
   "language": "python",
   "name": "openff"
  },
  "language_info": {
   "codemirror_mode": {
    "name": "ipython",
    "version": 3
   },
   "file_extension": ".py",
   "mimetype": "text/x-python",
   "name": "python",
   "nbconvert_exporter": "python",
   "pygments_lexer": "ipython3",
   "version": "3.9.16"
  }
 },
 "nbformat": 4,
 "nbformat_minor": 5
}
